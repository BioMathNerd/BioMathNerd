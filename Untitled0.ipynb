{
  "nbformat": 4,
  "nbformat_minor": 0,
  "metadata": {
    "colab": {
      "name": "Untitled0.ipynb",
      "provenance": [],
      "collapsed_sections": [],
      "authorship_tag": "ABX9TyPvynh8466c9mi+9JbkgbJ3",
      "include_colab_link": true
    },
    "kernelspec": {
      "name": "python3",
      "display_name": "Python 3"
    },
    "language_info": {
      "name": "python"
    }
  },
  "cells": [
    {
      "cell_type": "markdown",
      "metadata": {
        "id": "view-in-github",
        "colab_type": "text"
      },
      "source": [
        "<a href=\"https://colab.research.google.com/github/BioMathNerd/BioMathNerd/blob/main/Untitled0.ipynb\" target=\"_parent\"><img src=\"https://colab.research.google.com/assets/colab-badge.svg\" alt=\"Open In Colab\"/></a>"
      ]
    },
    {
      "cell_type": "code",
      "execution_count": 1,
      "metadata": {
        "id": "vHDq1ZLwAAKz"
      },
      "outputs": [],
      "source": [
        "import pandas as pd\n",
        "import numpy as np\n",
        "import matplotlib.pyplot as plt\n",
        "import seaborn as sns\n",
        "from sklearn.decomposition import PCA\n",
        "from sklearn import preprocessing\n",
        "from sklearn.cluster import KMeans, AgglomerativeClustering\n",
        "import plotly.express as px\n",
        "from sklearn.metrics.pairwise import cosine_similarity\n",
        "import spacy"
      ]
    },
    {
      "cell_type": "code",
      "source": [
        "df = pd.read_csv(\"/content/netflix_titles.csv\")\n",
        "df = df.dropna(axis = 0)\n",
        "df = df[df[\"release_year\"]>=2000]\n",
        "df = df[(df[\"rating\"] != \"NC-17\") & (df[\"rating\"] != \"UR\") & (df[\"rating\"] != \"TV-Y7-FV\")]"
      ],
      "metadata": {
        "id": "Ryg63FmUAJnY"
      },
      "execution_count": 23,
      "outputs": []
    },
    {
      "cell_type": "code",
      "source": [
        "import nltk\n",
        "from nltk.tokenize import word_tokenize\n",
        "from nltk.corpus import stopwords\n",
        "from string import punctuation\n",
        "import string"
      ],
      "metadata": {
        "id": "kGa1xGmvEdQW"
      },
      "execution_count": 13,
      "outputs": []
    },
    {
      "cell_type": "code",
      "source": [
        "nltk.download('punkt')\n",
        "nltk.download()"
      ],
      "metadata": {
        "id": "kJP9dDWuFERq"
      },
      "execution_count": null,
      "outputs": []
    },
    {
      "cell_type": "code",
      "source": [
        "df['title'] = df['title'].str.lower()\n",
        "df['genre'] = df['listed_in'].str.lower()\n",
        "df['synopsis'] = df['description'].str.lower()"
      ],
      "metadata": {
        "id": "eQ39-Ve0Eda6"
      },
      "execution_count": 24,
      "outputs": []
    },
    {
      "cell_type": "code",
      "source": [
        "df['title'] = df['title'].apply(word_tokenize)\n",
        "df['genre'] = df['genre'].apply(word_tokenize)\n",
        "df['synopsis'] = df['synopsis'].apply(word_tokenize)"
      ],
      "metadata": {
        "id": "yBIoX2nUGeUN"
      },
      "execution_count": 25,
      "outputs": []
    },
    {
      "cell_type": "code",
      "source": [
        "df['synopsis'] = df['synopsis'].apply(lambda x : [word.translate(str.maketrans('', '', string.punctuation)) for word in x])\n",
        "df['synopsis'] = df['synopsis'].apply(lambda x : [word for word in x if len(word) > 0])"
      ],
      "metadata": {
        "id": "OTU2eUREEddQ"
      },
      "execution_count": 26,
      "outputs": []
    },
    {
      "cell_type": "code",
      "source": [
        "df['title'] = df['title'].apply(lambda x : list(set(x)))\n",
        "df['genre'] = df['genre'].apply(lambda x : list(set(x)))\n",
        "df['synopsis'] = df['synopsis'].apply(lambda x : list(set(x)))"
      ],
      "metadata": {
        "id": "ukck0s3KEdf0"
      },
      "execution_count": 27,
      "outputs": []
    },
    {
      "cell_type": "code",
      "source": [
        "df['synopsis']"
      ],
      "metadata": {
        "colab": {
          "base_uri": "https://localhost:8080/"
        },
        "id": "8Mfnt7crFNQs",
        "outputId": "00a6d94f-6e90-4709-e000-a6ff3e483d95"
      },
      "execution_count": 28,
      "outputs": [
        {
          "output_type": "execute_result",
          "data": {
            "text/plain": [
              "8       [s, the, batch, off, bakers, dishes, a, 10week...\n",
              "9       [s, find, and, with, feisty, contends, garden,...\n",
              "12      [bombing, group, the, them, very, family, unkn...\n",
              "27      [pals, and, the, mourning, five, house, a, lak...\n",
              "28      [idyllic, as, threat, s, deadly, and, alien, t...\n",
              "                              ...                        \n",
              "8801    [smalltown, subject, s, cell, the, station, a,...\n",
              "8802    [cops, this, thriller, s, francisco, and, crim...\n",
              "8804    [teams, sisters, roughneck, and, with, pair, g...\n",
              "8805    [the, saviors, new, for, familiar, a, military...\n",
              "8806    [s, music, about, and, while, tycoon, the, dys...\n",
              "Name: synopsis, Length: 4884, dtype: object"
            ]
          },
          "metadata": {},
          "execution_count": 28
        }
      ]
    },
    {
      "cell_type": "code",
      "source": [
        ""
      ],
      "metadata": {
        "id": "cSv7BiMfFNYx"
      },
      "execution_count": null,
      "outputs": []
    },
    {
      "cell_type": "code",
      "source": [
        ""
      ],
      "metadata": {
        "id": "g2ygIQn1FNbQ"
      },
      "execution_count": null,
      "outputs": []
    },
    {
      "cell_type": "code",
      "source": [
        ""
      ],
      "metadata": {
        "id": "5_j3_rTiFNdo"
      },
      "execution_count": null,
      "outputs": []
    },
    {
      "cell_type": "code",
      "source": [
        ""
      ],
      "metadata": {
        "id": "CoIStMXBFNf1"
      },
      "execution_count": null,
      "outputs": []
    },
    {
      "cell_type": "code",
      "source": [
        "#!pip install https://github.com/explosion/spacy-models/releases/download/en_core_web_lg-3.3.0/en_core_web_lg-3.3.0.tar.gz"
      ],
      "metadata": {
        "id": "OBoKGtAeBDyw"
      },
      "execution_count": 3,
      "outputs": []
    },
    {
      "cell_type": "code",
      "source": [
        "nlp = spacy.load('en_core_web_lg')"
      ],
      "metadata": {
        "id": "WlDSkK7WBnwb"
      },
      "execution_count": 4,
      "outputs": []
    },
    {
      "cell_type": "code",
      "source": [
        "spacy_tokenizer = nlp.tokenizer"
      ],
      "metadata": {
        "id": "Y1POJVjgB_px"
      },
      "execution_count": 5,
      "outputs": []
    },
    {
      "cell_type": "code",
      "source": [
        "x = df['description']\n",
        "x.to_string()\n",
        "def prep(x):\n",
        "  tknzr=spacy_tokenizer(x)\n",
        "  tknzr = nlp(tknzr).vector.reshape(300,)\n"
      ],
      "metadata": {
        "id": "v39gZo9OCqG-"
      },
      "execution_count": 36,
      "outputs": []
    },
    {
      "cell_type": "code",
      "source": [
        "movie_vect = prep(x)"
      ],
      "metadata": {
        "colab": {
          "base_uri": "https://localhost:8080/",
          "height": 266
        },
        "id": "j3oONCMVHHwz",
        "outputId": "144d6d66-635a-486c-fce1-57daef0d750f"
      },
      "execution_count": 37,
      "outputs": [
        {
          "output_type": "error",
          "ename": "TypeError",
          "evalue": "ignored",
          "traceback": [
            "\u001b[0;31m---------------------------------------------------------------------------\u001b[0m",
            "\u001b[0;31mTypeError\u001b[0m                                 Traceback (most recent call last)",
            "\u001b[0;32m<ipython-input-37-a5917e428b56>\u001b[0m in \u001b[0;36m<module>\u001b[0;34m()\u001b[0m\n\u001b[0;32m----> 1\u001b[0;31m \u001b[0mmovie_vect\u001b[0m \u001b[0;34m=\u001b[0m \u001b[0mprep\u001b[0m\u001b[0;34m(\u001b[0m\u001b[0mx\u001b[0m\u001b[0;34m)\u001b[0m\u001b[0;34m\u001b[0m\u001b[0;34m\u001b[0m\u001b[0m\n\u001b[0m",
            "\u001b[0;32m<ipython-input-36-cb8d4bbc20ed>\u001b[0m in \u001b[0;36mprep\u001b[0;34m(x)\u001b[0m\n\u001b[1;32m      2\u001b[0m \u001b[0mx\u001b[0m\u001b[0;34m.\u001b[0m\u001b[0mto_string\u001b[0m\u001b[0;34m(\u001b[0m\u001b[0;34m)\u001b[0m\u001b[0;34m\u001b[0m\u001b[0;34m\u001b[0m\u001b[0m\n\u001b[1;32m      3\u001b[0m \u001b[0;32mdef\u001b[0m \u001b[0mprep\u001b[0m\u001b[0;34m(\u001b[0m\u001b[0mx\u001b[0m\u001b[0;34m)\u001b[0m\u001b[0;34m:\u001b[0m\u001b[0;34m\u001b[0m\u001b[0;34m\u001b[0m\u001b[0m\n\u001b[0;32m----> 4\u001b[0;31m   \u001b[0mtknzr\u001b[0m\u001b[0;34m=\u001b[0m\u001b[0mspacy_tokenizer\u001b[0m\u001b[0;34m(\u001b[0m\u001b[0mx\u001b[0m\u001b[0;34m)\u001b[0m\u001b[0;34m\u001b[0m\u001b[0;34m\u001b[0m\u001b[0m\n\u001b[0m\u001b[1;32m      5\u001b[0m   \u001b[0mtknzr\u001b[0m \u001b[0;34m=\u001b[0m \u001b[0mnlp\u001b[0m\u001b[0;34m(\u001b[0m\u001b[0mtknzr\u001b[0m\u001b[0;34m)\u001b[0m\u001b[0;34m.\u001b[0m\u001b[0mvector\u001b[0m\u001b[0;34m.\u001b[0m\u001b[0mreshape\u001b[0m\u001b[0;34m(\u001b[0m\u001b[0;36m300\u001b[0m\u001b[0;34m,\u001b[0m\u001b[0;34m)\u001b[0m\u001b[0;34m\u001b[0m\u001b[0;34m\u001b[0m\u001b[0m\n",
            "\u001b[0;31mTypeError\u001b[0m: Argument 'string' has incorrect type (expected str, got Series)"
          ]
        }
      ]
    },
    {
      "cell_type": "code",
      "source": [
        ""
      ],
      "metadata": {
        "id": "zlmhGVqBL4mP"
      },
      "execution_count": null,
      "outputs": []
    }
  ]
}